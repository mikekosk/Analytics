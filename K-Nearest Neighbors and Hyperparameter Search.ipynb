{
 "cells": [
  {
   "cell_type": "markdown",
   "metadata": {},
   "source": [
    "# Introduction to K-Nearest Neighbors and HyperParameter Search"
   ]
  },
  {
   "cell_type": "markdown",
   "metadata": {},
   "source": [
    "## K-Nearest Neighbors for Classification\n",
    "\n",
    "Like the K-Means algorithm we covered before this, K-Nearest Neighbors is an example of **lazy learning** in machine learning.  Neither K-means of K-nearest neighbors are generalizable outside of their input data. In order to get usage out of these algorithms, we need to have access to the entire set of training data, even as we try and use our model to make predictions on new data.  This can pose some difficulties when you're dealing with a lot of data...imagine if you have millions of existing data points to test for!\n",
    "\n",
    "We contrast this to eager learning, which is exhibited by all tree based algorithms, support vector machines, or logistic regressions (among many others). Once we have trained an eager model, we can export it as a generalizable function without bringing all of our training data within. \n",
    "\n",
    "That K-Nearest neighbors is a *lazy* model shouldn't be a surprise.  K-NN makes predictions by comparing the new input data to existing points and their labels. Points are predicted based on which points in the training data they are most simialar to.  It is extremely powerful and modifications of it (such as approximate nearest neighbors) power a lot of huge apps like Spotify or Better.\n",
    "\n",
    "In this notebook, we'll be hand coding an implementation of the K-nearest neighbors algorithm as well as comparing it to some other algorithms with regards to classification power on a test set of data."
   ]
  },
  {
   "cell_type": "markdown",
   "metadata": {},
   "source": [
    "### Writing the KNN Classification Function First"
   ]
  },
  {
   "cell_type": "markdown",
   "metadata": {},
   "source": [
    "We are loading the famous Iris dataset to test our KNN's ability to classify flower samples based on their similarity to other flowers."
   ]
  },
  {
   "cell_type": "code",
   "execution_count": 2,
   "metadata": {
    "collapsed": true
   },
   "outputs": [],
   "source": [
    "#Loading Necessary Background Packages\n",
    "from sklearn import datasets\n",
    "import matplotlib.pyplot as plt\n",
    "import numpy as np\n",
    "%matplotlib inline\n",
    "\n",
    "# Importing Data for classification \n",
    "iris = datasets.load_iris()\n",
    "X = iris.data \n",
    "y = iris.target"
   ]
  },
  {
   "cell_type": "markdown",
   "metadata": {},
   "source": [
    "The iris dataset has data in 4 dimensions"
   ]
  },
  {
   "cell_type": "code",
   "execution_count": 3,
   "metadata": {
    "collapsed": false
   },
   "outputs": [
    {
     "data": {
      "text/plain": [
       "array([[ 5.1,  3.5,  1.4,  0.2],\n",
       "       [ 4.9,  3. ,  1.4,  0.2],\n",
       "       [ 4.7,  3.2,  1.3,  0.2],\n",
       "       [ 4.6,  3.1,  1.5,  0.2],\n",
       "       [ 5. ,  3.6,  1.4,  0.2],\n",
       "       [ 5.4,  3.9,  1.7,  0.4]])"
      ]
     },
     "execution_count": 3,
     "metadata": {},
     "output_type": "execute_result"
    }
   ],
   "source": [
    "## Sampling the data\n",
    "X[:6]"
   ]
  },
  {
   "cell_type": "markdown",
   "metadata": {},
   "source": [
    "There are 3 iris classifications we are predicting."
   ]
  },
  {
   "cell_type": "code",
   "execution_count": 4,
   "metadata": {
    "collapsed": false
   },
   "outputs": [
    {
     "data": {
      "text/plain": [
       "array([0, 1, 2])"
      ]
     },
     "execution_count": 4,
     "metadata": {},
     "output_type": "execute_result"
    }
   ],
   "source": [
    "np.unique(y)"
   ]
  },
  {
   "cell_type": "markdown",
   "metadata": {},
   "source": [
    "We'll be splitting the data into Test and Train splits using the super handy built in sklearn function.\n",
    "\n",
    "I've chosen to split the data into 80% train, 20% test."
   ]
  },
  {
   "cell_type": "code",
   "execution_count": 11,
   "metadata": {
    "collapsed": true
   },
   "outputs": [],
   "source": [
    "from sklearn.model_selection import train_test_split\n",
    "\n",
    "X_train, X_test, y_train, y_test = train_test_split(X, y, test_size=0.2, \n",
    "                                                    random_state=0)"
   ]
  },
  {
   "cell_type": "markdown",
   "metadata": {},
   "source": [
    "Below I have printed the length of the train and test datasets."
   ]
  },
  {
   "cell_type": "code",
   "execution_count": 11,
   "metadata": {
    "collapsed": false
   },
   "outputs": [
    {
     "name": "stdout",
     "output_type": "stream",
     "text": [
      "(120, 4) (30, 4)\n"
     ]
    }
   ],
   "source": [
    "print X_train.shape, X_test.shape"
   ]
  },
  {
   "cell_type": "markdown",
   "metadata": {},
   "source": [
    "I've plotted the first 2 features of the training datasets to get a sense of how well clustered the points are.  Seems that even with 2 features, our data is very well segmented already.  I can see our model doing very well here."
   ]
  },
  {
   "cell_type": "code",
   "execution_count": 13,
   "metadata": {
    "collapsed": false
   },
   "outputs": [
    {
     "data": {
      "text/plain": [
       "<matplotlib.collections.PathCollection at 0x1137d57d0>"
      ]
     },
     "execution_count": 13,
     "metadata": {},
     "output_type": "execute_result"
    },
    {
     "data": {
      "image/png": "[encoded data removed]",
      "text/plain": [
       "<matplotlib.figure.Figure at 0x113703810>"
      ]
     },
     "metadata": {},
     "output_type": "display_data"
    }
   ],
   "source": [
    "plt.scatter(X_train[:,1], X_train[:,0], c=y_train)"
   ]
  },
  {
   "cell_type": "markdown",
   "metadata": {},
   "source": [
    "The below K-NN classification takes the following arguments:\n",
    "\n",
    "- X_train: Features to build model on\n",
    "- y_train: Labels for training model\n",
    "- X_test: Features to predict on\n",
    "\n",
    "The model outputs the following\n",
    "\n",
    "- y_test: labels for testing data"
   ]
  },
  {
   "cell_type": "markdown",
   "metadata": {},
   "source": [
    "## The algorithm\n",
    "\n",
    "K nearest neighbors is quite beautiful in its simplicity.\n",
    "\n",
    "1. Given X_Train, X_Test, Y_Train\n",
    "2. Find the *k* nearest points to each x in X_train\n",
    "3. Classify x based on the predominant classification of those *k* nearest points\n",
    "4. Done!\n",
    "\n",
    "Our implementation is below:"
   ]
  },
  {
   "cell_type": "code",
   "execution_count": 23,
   "metadata": {
    "collapsed": false
   },
   "outputs": [],
   "source": [
    "from collections import Counter\n",
    "\n",
    "def distance(X, X_train):\n",
    "    return [np.sum((X - x)**2) for x in X_train]\n",
    "    \n",
    "def my_knn_classification(X_train, X_test, y_train, n_neighbors):\n",
    "    #find the closest n_neighbors in X_train to each point in X_test \n",
    "    #assign each point in X_test a label which is the most common label \n",
    "    #of its nearest n_neighbors\n",
    "    #\n",
    "    #return array y_test which is the array of above labels on X_test\n",
    "    y_test = []\n",
    "    for x in X_test:\n",
    "        #find the index of the cloest n_neighbors points to x in X_train\n",
    "        knn = np.argsort(distance(x, X_train))[:n_neighbors]\n",
    "        knn_labels = y_train[knn]\n",
    "        # find the most predominant label of the nearest *k* points\n",
    "        label_counts = Counter(knn_labels)\n",
    "        y_test.append(label_counts.most_common(1)[0][0])\n",
    "    return np.array(y_test)"
   ]
  },
  {
   "cell_type": "markdown",
   "metadata": {},
   "source": [
    "Can you believe the KNN algorithm is this simple??? Seriously before I understood how it worked I treated it like some magical machine learning black box.  Its that simple!"
   ]
  },
  {
   "cell_type": "markdown",
   "metadata": {},
   "source": [
    "Lets test her out! I'm setting my algorithm to look at the 5 nearest points -- Later I'll discuss a more programtic approach to finding the optimal number of *k* neighbors."
   ]
  },
  {
   "cell_type": "code",
   "execution_count": 24,
   "metadata": {
    "collapsed": false
   },
   "outputs": [],
   "source": [
    "y_hat = my_knn_classification(X_train, X_test, y_train, 5)"
   ]
  },
  {
   "cell_type": "code",
   "execution_count": 25,
   "metadata": {
    "collapsed": false
   },
   "outputs": [
    {
     "name": "stdout",
     "output_type": "stream",
     "text": [
      "KNN correctly classified:  96.6666666667 %\n"
     ]
    }
   ],
   "source": [
    "num_correct = 0.0\n",
    "for i in range(len(y_hat)):\n",
    "    if y_hat[i] == y_test[i]: num_correct += 1\n",
    "\n",
    "print \"KNN correctly classified: \", num_correct/len(y_hat)*100, \"%\""
   ]
  },
  {
   "cell_type": "markdown",
   "metadata": {},
   "source": [
    "Wow! Almost perfect classification.  Granted, this is a pretty easy dataset."
   ]
  },
  {
   "cell_type": "markdown",
   "metadata": {},
   "source": [
    "## K-Nearest Neighbors for Regression\n",
    "\n",
    "For the second half of our implementation, I'll be writing the K-NN algorithm for regression problems.  \n",
    "\n",
    "I'll be loading another great dataset from sklearn containing features and prices of homes in Boston.  We'll be calculating the optimal number of nearest neighbors once we get the base implementation working.\n",
    "\n",
    "K nearest neighbors is quite beautiful in its simplicity, even for regressions.\n",
    "\n",
    "1. Given X_Train, X_Test, Y_Train\n",
    "2. Find the *k* nearest points to each x in X_train\n",
    "3. Predict what Y_test will be for each x based on the average value of Y_train is in its *k* nearest points\n",
    "4. Done!"
   ]
  },
  {
   "cell_type": "code",
   "execution_count": 7,
   "metadata": {
    "collapsed": false
   },
   "outputs": [],
   "source": [
    "from sklearn import datasets\n",
    "import matplotlib.pyplot as plt\n",
    "%matplotlib inline\n",
    "\n",
    "# import our home price data\n",
    "boston = datasets.load_boston()\n",
    "X = boston.data  # we only take the first two features.\n",
    "y = boston.target\n",
    "\n",
    "# split into test and train\n",
    "from sklearn.model_selection import train_test_split\n",
    "import numpy as np\n",
    "\n",
    "X_train, X_test, y_train, y_test = train_test_split(X, y, test_size=0.2, \n",
    "                                                    random_state=0)"
   ]
  },
  {
   "cell_type": "markdown",
   "metadata": {},
   "source": [
    "The cool thing about the built in sklearn datasets is that they have all these incredible descriptions built in as well.  Perfect for experiementing around with new packages!"
   ]
  },
  {
   "cell_type": "code",
   "execution_count": 8,
   "metadata": {
    "collapsed": false
   },
   "outputs": [
    {
     "name": "stdout",
     "output_type": "stream",
     "text": [
      "Boston House Prices dataset\n",
      "===========================\n",
      "\n",
      "Notes\n",
      "------\n",
      "Data Set Characteristics:  \n",
      "\n",
      "    :Number of Instances: 506 \n",
      "\n",
      "    :Number of Attributes: 13 numeric/categorical predictive\n",
      "    \n",
      "    :Median Value (attribute 14) is usually the target\n",
      "\n",
      "    :Attribute Information (in order):\n",
      "        - CRIM     per capita crime rate by town\n",
      "        - ZN       proportion of residential land zoned for lots over 25,000 sq.ft.\n",
      "        - INDUS    proportion of non-retail business acres per town\n",
      "        - CHAS     Charles River dummy variable (= 1 if tract bounds river; 0 otherwise)\n",
      "        - NOX      nitric oxides concentration (parts per 10 million)\n",
      "        - RM       average number of rooms per dwelling\n",
      "        - AGE      proportion of owner-occupied units built prior to 1940\n",
      "        - DIS      weighted distances to five Boston employment centres\n",
      "        - RAD      index of accessibility to radial highways\n",
      "        - TAX      full-value property-tax rate per $10,000\n",
      "        - PTRATIO  pupil-teacher ratio by town\n",
      "        - B        1000(Bk - 0.63)^2 where Bk is the proportion of blacks by town\n",
      "        - LSTAT    % lower status of the population\n",
      "        - MEDV     Median value of owner-occupied homes in $1000's\n",
      "\n",
      "    :Missing Attribute Values: None\n",
      "\n",
      "    :Creator: Harrison, D. and Rubinfeld, D.L.\n",
      "\n",
      "This is a copy of UCI ML housing dataset.\n",
      "http://archive.ics.uci.edu/ml/datasets/Housing\n",
      "\n",
      "\n",
      "This dataset was taken from the StatLib library which is maintained at Carnegie Mellon University.\n",
      "\n",
      "The Boston house-price data of Harrison, D. and Rubinfeld, D.L. 'Hedonic\n",
      "prices and the demand for clean air', J. Environ. Economics & Management,\n",
      "vol.5, 81-102, 1978.   Used in Belsley, Kuh & Welsch, 'Regression diagnostics\n",
      "...', Wiley, 1980.   N.B. Various transformations are used in the table on\n",
      "pages 244-261 of the latter.\n",
      "\n",
      "The Boston house-price data has been used in many machine learning papers that address regression\n",
      "problems.   \n",
      "     \n",
      "**References**\n",
      "\n",
      "   - Belsley, Kuh & Welsch, 'Regression diagnostics: Identifying Influential Data and Sources of Collinearity', Wiley, 1980. 244-261.\n",
      "   - Quinlan,R. (1993). Combining Instance-Based and Model-Based Learning. In Proceedings on the Tenth International Conference of Machine Learning, 236-243, University of Massachusetts, Amherst. Morgan Kaufmann.\n",
      "   - many more! (see http://archive.ics.uci.edu/ml/datasets/Housing)\n",
      "\n"
     ]
    }
   ],
   "source": [
    "print boston.DESCR"
   ]
  },
  {
   "cell_type": "markdown",
   "metadata": {},
   "source": [
    "## The Algorithm\n",
    "\n",
    "The below K-NN regression takes the following arguments:\n",
    "\n",
    "- X_train: Features to build model on\n",
    "- y_train: Labels for training model\n",
    "- X_test: Features to predict on\n",
    "\n",
    "The model outputs the following\n",
    "\n",
    "- y_test: labels for testing data"
   ]
  },
  {
   "cell_type": "code",
   "execution_count": 9,
   "metadata": {
    "collapsed": true
   },
   "outputs": [],
   "source": [
    "from collections import Counter\n",
    "\n",
    "def distance(X, X_train):\n",
    "    return [np.sum((X - x)**2) for x in X_train]\n",
    "    \n",
    "def my_knn_regression(X_train, X_test, y_train, n_neighbors):\n",
    "    #find the closest n_neighbors in X_train to each point in X_test \n",
    "    #assign each point in X_test a label which is the most common label \n",
    "    #of its nearest n_neighbors\n",
    "    #return array y_test which is the array of above labels on X_test\n",
    "    y_test = []\n",
    "    for x in X_test:\n",
    "        #find the index of the cloest n_neighbors points to x in X_train\n",
    "        knn = np.argsort(distance(x, X_train))[:n_neighbors]\n",
    "        knn_value = np.mean(y_train[knn])\n",
    "        y_test.append(knn_value)\n",
    "    return np.array(y_test)"
   ]
  },
  {
   "cell_type": "markdown",
   "metadata": {},
   "source": [
    "Lets test her out with 5 nearest neighbors.  "
   ]
  },
  {
   "cell_type": "code",
   "execution_count": 10,
   "metadata": {
    "collapsed": false
   },
   "outputs": [],
   "source": [
    "y_hat = my_knn_regression(X_train, X_test, y_train, 5)"
   ]
  },
  {
   "cell_type": "markdown",
   "metadata": {},
   "source": [
    "To judge the model performance, I'll be using a measure thats common in my line of work called MAPE.  Its the Mean Absolute Percent Error of our predictions with their actual values.  \n",
    "\n",
    "I would normally use the ```metrics``` package for measuring performance, but this is a manually implementation of the same thing."
   ]
  },
  {
   "cell_type": "code",
   "execution_count": 11,
   "metadata": {
    "collapsed": false
   },
   "outputs": [
    {
     "name": "stdout",
     "output_type": "stream",
     "text": [
      "average error is:  0.214663492394\n"
     ]
    }
   ],
   "source": [
    "percent_error = []\n",
    "for i in range(len(y_hat)):\n",
    "    PE = (y_hat[i]-y_test[i])/y_test[i]\n",
    "    percent_error.append(PE)\n",
    "\n",
    "print \"average error is: \", np.mean(np.abs(percent_error))"
   ]
  },
  {
   "cell_type": "markdown",
   "metadata": {},
   "source": [
    "Not bad! I think...\n",
    "\n",
    "Before I compare K-NN regression against other people machine learning algorithms, I'll first run a **hyper-parameter search** to find the number of *k* nearest neighbors that reduces our PE the most. **Hyper-parameters** are options we pass to machine learning algorithms to configure how they run.  In a tree-based algorithm, a hyperparameter might be maximum tree depth.  For a penalized linear regression, it might be the penalty assigned to additional variables."
   ]
  },
  {
   "cell_type": "markdown",
   "metadata": {},
   "source": [
    "The below code will test our k-nn regression with a number of neighbors between 1 and 20 to find the one which minimizes our loss the most. \n",
    "\n",
    "If I were doing this in a production environment, I'd further split up my training dataset so that I'm finding the optimal set of neighbors on yet a different dataset than the one I'm building my model off of.  "
   ]
  },
  {
   "cell_type": "code",
   "execution_count": 15,
   "metadata": {
    "collapsed": true
   },
   "outputs": [],
   "source": [
    "def meta_knn_regression(X_train, X_test, y_train, n_max = 20):\n",
    "    best_PE = 100000\n",
    "    for i in range(n_max):\n",
    "        y_hat = my_knn_regression(X_train, X_test, y_train, i)\n",
    "        percent_error = []\n",
    "        for j in range(len(y_hat)):\n",
    "            PE = (y_hat[j]-y_test[j])/y_test[j]\n",
    "            percent_error.append(PE)\n",
    "        temp_PE = np.mean(np.abs(percent_error))\n",
    "        if temp_PE < best_PE:\n",
    "            best_PE = temp_PE\n",
    "            best_n = i\n",
    "            best_y_hat = y_hat\n",
    "    return best_y_hat, best_PE, best_n"
   ]
  },
  {
   "cell_type": "code",
   "execution_count": 16,
   "metadata": {
    "collapsed": false
   },
   "outputs": [
    {
     "name": "stdout",
     "output_type": "stream",
     "text": [
      "KNN produced an optimal mean error of 0.2050085244 using 8 nearest neighbors \n"
     ]
    }
   ],
   "source": [
    "y_hat, PE, n_neighbors = meta_knn_regression(X_train, X_test, y_train, n_max = 20)\n",
    "\n",
    "print \"KNN produced an optimal mean error of %s using %s nearest neighbors \" % (PE, n_neighbors)"
   ]
  },
  {
   "cell_type": "markdown",
   "metadata": {},
   "source": [
    "## Comparing KNN Regression against other machine learning algorithms.\n",
    "\n",
    "Now, using our KNN with optimized *k* hyperparameter, we'll compare our model against some other popular machine learning algorithms.\n",
    "\n",
    "This is the first time I'm bringing these algorithms into the picture, and my next posts will go over these models in greater depth."
   ]
  },
  {
   "cell_type": "markdown",
   "metadata": {},
   "source": [
    "### Linear Regression"
   ]
  },
  {
   "cell_type": "code",
   "execution_count": 34,
   "metadata": {
    "collapsed": false
   },
   "outputs": [],
   "source": [
    "# import linear regression module from scikit-learn\n",
    "from sklearn.linear_model import LinearRegression\n",
    "\n",
    "# create an instance of a linear regressor from scikit learn\n",
    "regressor = LinearRegression()\n",
    "\n",
    "# fit our chosen regressor to the dataset\n",
    "regressor.fit(X_train, y_train)  \n",
    "\n",
    "y_hat = regressor.predict(X_test)"
   ]
  },
  {
   "cell_type": "code",
   "execution_count": 35,
   "metadata": {
    "collapsed": false
   },
   "outputs": [
    {
     "name": "stdout",
     "output_type": "stream",
     "text": [
      "average error is:  0.183501475863\n"
     ]
    }
   ],
   "source": [
    "percent_error = []\n",
    "for i in range(len(y_hat)):\n",
    "    PE = (y_hat[i]-y_test[i])/y_test[i]\n",
    "    percent_error.append(PE)\n",
    "\n",
    "print \"average error is: \", np.mean(np.abs(percent_error))"
   ]
  },
  {
   "cell_type": "markdown",
   "metadata": {},
   "source": [
    "### Elastic net"
   ]
  },
  {
   "cell_type": "code",
   "execution_count": 36,
   "metadata": {
    "collapsed": true
   },
   "outputs": [],
   "source": [
    "from sklearn.linear_model import ElasticNet\n",
    "\n",
    "# create an instance of a elasticnet regressor from scikit learn\n",
    "regressor = ElasticNet(alpha=1)\n",
    "\n",
    "# fit our chosen regressor to the dataset\n",
    "regressor.fit(X_train, y_train)  \n",
    "\n",
    "y_hat = regressor.predict(X_test)"
   ]
  },
  {
   "cell_type": "code",
   "execution_count": 37,
   "metadata": {
    "collapsed": false
   },
   "outputs": [
    {
     "name": "stdout",
     "output_type": "stream",
     "text": [
      "average error is:  0.194042726016\n"
     ]
    }
   ],
   "source": [
    "percent_error = []\n",
    "for i in range(len(y_hat)):\n",
    "    PE = (y_hat[i]-y_test[i])/y_test[i]\n",
    "    percent_error.append(PE)\n",
    "\n",
    "print \"average error is: \", np.mean(np.abs(percent_error))"
   ]
  },
  {
   "cell_type": "markdown",
   "metadata": {},
   "source": [
    "### Random Forest"
   ]
  },
  {
   "cell_type": "code",
   "execution_count": 40,
   "metadata": {
    "collapsed": true
   },
   "outputs": [],
   "source": [
    "from sklearn.ensemble import RandomForestRegressor\n",
    "\n",
    "# create an instance of the Random Forest Regressor from scikit learn\n",
    "regressor = RandomForestRegressor()\n",
    "\n",
    "# fit our chosen regressor to the dataset\n",
    "regressor.fit(X_train, y_train)  \n",
    "\n",
    "y_hat = regressor.predict(X_test)"
   ]
  },
  {
   "cell_type": "code",
   "execution_count": 41,
   "metadata": {
    "collapsed": false
   },
   "outputs": [
    {
     "name": "stdout",
     "output_type": "stream",
     "text": [
      "average error is:  0.134505708624\n"
     ]
    }
   ],
   "source": [
    "percent_error = []\n",
    "for i in range(len(y_hat)):\n",
    "    PE = (y_hat[i]-y_test[i])/y_test[i]\n",
    "    percent_error.append(PE)\n",
    "\n",
    "print \"average error is: \", np.mean(np.abs(percent_error))"
   ]
  },
  {
   "cell_type": "markdown",
   "metadata": {},
   "source": [
    "### Gradient Boosted Trees"
   ]
  },
  {
   "cell_type": "code",
   "execution_count": 42,
   "metadata": {
    "collapsed": true
   },
   "outputs": [],
   "source": [
    "from sklearn.ensemble import GradientBoostingRegressor\n",
    "\n",
    "# create an instance of the Random Forest Regressor from scikit learn\n",
    "regressor = GradientBoostingRegressor(loss='lad')\n",
    "\n",
    "# fit our chosen regressor to the dataset\n",
    "regressor.fit(X_train, y_train)  \n",
    "\n",
    "y_hat = regressor.predict(X_test)"
   ]
  },
  {
   "cell_type": "code",
   "execution_count": 43,
   "metadata": {
    "collapsed": false
   },
   "outputs": [
    {
     "name": "stdout",
     "output_type": "stream",
     "text": [
      "average error is:  0.133206918853\n"
     ]
    }
   ],
   "source": [
    "percent_error = []\n",
    "for i in range(len(y_hat)):\n",
    "    PE = (y_hat[i]-y_test[i])/y_test[i]\n",
    "    percent_error.append(PE)\n",
    "\n",
    "print \"average error is: \", np.mean(np.abs(percent_error))"
   ]
  },
  {
   "cell_type": "markdown",
   "metadata": {
    "collapsed": true
   },
   "source": [
    "## Summary"
   ]
  },
  {
   "cell_type": "markdown",
   "metadata": {
    "collapsed": true
   },
   "source": [
    "Hmm - seems like our KNN algorithm didn't fare so hot compared to some other models. I've done a few Kaggle competititions where K-NN features strongly in my final ensemble of models, the poor performance here is a little surprising to me. My guess is that 8, while the optimal # of neighbors in our range of 20 tested, is actually pretty low.  I don't think I've done a competition where I have less than 100 neighbors in my final model, but then again this is a pretty small dataset to most of what is offered on Kaggle."
   ]
  }
 ],
 "metadata": {
  "kernelspec": {
   "display_name": "Python 2",
   "language": "python",
   "name": "python2"
  },
  "language_info": {
   "codemirror_mode": {
    "name": "ipython",
    "version": 2
   },
   "file_extension": ".py",
   "mimetype": "text/x-python",
   "name": "python",
   "nbconvert_exporter": "python",
   "pygments_lexer": "ipython2",
   "version": "2.7.13"
  }
 },
 "nbformat": 4,
 "nbformat_minor": 0
}
