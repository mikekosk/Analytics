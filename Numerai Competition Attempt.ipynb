{
 "cells": [
  {
   "cell_type": "markdown",
   "metadata": {},
   "source": [
    "## Numerai Tournament 61 Entry\n",
    "\n",
    "In this notebook I do some profiling on Numer.ai's tournament 61 dataset.  For those not acquainted with numer.ai, it is a crowd sourced hedge fund where data scientists compete to create the best predictive models.  Numerai then uses these predictions to create a meta-model that, as the theory goes, is better than all the disparate models used to create it. \n",
    "\n",
    "Numerai runs tournaments each week and the format, as far as I know, is the same each week. This is my first step at creating a mostly automatic pipeline for entering into these tournaments.  Given that numerai allows for 25 predictions a day, there is also a lot of room to experiement with 'magic numbers' and other sorts sorts of hacks to game the competition. That will obviously come later, so the purpose of this notebook is just to get an understanding of the data, the prediction format, and to test out a few models."
   ]
  },
  {
   "cell_type": "code",
   "execution_count": 8,
   "metadata": {
    "collapsed": true
   },
   "outputs": [],
   "source": [
    "import numpy as np\n",
    "import pandas as pd\n",
    "import matplotlib.pyplot as plt"
   ]
  },
  {
   "cell_type": "code",
   "execution_count": 10,
   "metadata": {
    "collapsed": false
   },
   "outputs": [
    {
     "name": "stdout",
     "output_type": "stream",
     "text": [
      "example_model.py\n",
      "example_model.r\n",
      "example_predictions.csv\n",
      "numerai_tournament_data.csv\n",
      "numerai_training_data.csv\n",
      "\n"
     ]
    }
   ],
   "source": [
    "# Lets see whats in our input folder\n",
    "from subprocess import check_output\n",
    "print(check_output([\"ls\", \"../numerai/T61/\"]).decode(\"utf8\"))"
   ]
  },
  {
   "cell_type": "code",
   "execution_count": 160,
   "metadata": {
    "collapsed": true
   },
   "outputs": [],
   "source": [
    "# Load Training Data\n",
    "training_data = pd.read_csv('../numerai/T61/numerai_training_data.csv', header=0)\n",
    "prediction_data = pd.read_csv('../numerai/T61/numerai_tournament_data.csv', header=0)\n",
    "\n",
    "# Transform the loaded CSV data into numpy arrays\n",
    "features = [f for f in list(training_data) if \"feature\" in f]\n",
    "X = training_data[features]\n",
    "Y = training_data[\"target\"]\n",
    "x_prediction = prediction_data[features]\n",
    "ids = prediction_data[\"id\"]"
   ]
  },
  {
   "cell_type": "code",
   "execution_count": 37,
   "metadata": {
    "collapsed": false
   },
   "outputs": [
    {
     "name": "stdout",
     "output_type": "stream",
     "text": [
      "(108405, 21) (108405,) (45625, 25)\n"
     ]
    }
   ],
   "source": [
    "print X.shape, Y.shape"
   ]
  },
  {
   "cell_type": "markdown",
   "metadata": {},
   "source": [
    "First we'll get a sense of what type each column is.  I'm presuming that we'll be working primarily with numerical data."
   ]
  },
  {
   "cell_type": "code",
   "execution_count": 19,
   "metadata": {
    "collapsed": false
   },
   "outputs": [
    {
     "name": "stdout",
     "output_type": "stream",
     "text": [
      "feature1     float64\n",
      "feature2     float64\n",
      "feature3     float64\n",
      "feature4     float64\n",
      "feature5     float64\n",
      "feature6     float64\n",
      "feature7     float64\n",
      "feature8     float64\n",
      "feature9     float64\n",
      "feature10    float64\n",
      "feature11    float64\n",
      "feature12    float64\n",
      "feature13    float64\n",
      "feature14    float64\n",
      "feature15    float64\n",
      "feature16    float64\n",
      "feature17    float64\n",
      "feature18    float64\n",
      "feature19    float64\n",
      "feature20    float64\n",
      "feature21    float64\n",
      "dtype: object\n"
     ]
    }
   ],
   "source": [
    "print(X.dtypes)"
   ]
  },
  {
   "cell_type": "markdown",
   "metadata": {},
   "source": [
    "Python has a handy function that will summarize each column."
   ]
  },
  {
   "cell_type": "code",
   "execution_count": 24,
   "metadata": {
    "collapsed": false
   },
   "outputs": [
    {
     "name": "stdout",
     "output_type": "stream",
     "text": [
      "            feature1      feature2       feature3       feature4  \\\n",
      "count  108405.000000  108405.00000  108405.000000  108405.000000   \n",
      "mean        0.500489       0.52870       0.593131       0.463543   \n",
      "std         0.090130       0.10490       0.098372       0.096387   \n",
      "min         0.000000       0.00000       0.000000       0.000000   \n",
      "25%         0.455870       0.46791       0.540400       0.408910   \n",
      "50%         0.499290       0.53508       0.594830       0.466530   \n",
      "75%         0.546790       0.59569       0.648070       0.520500   \n",
      "max         1.000000       1.00000       0.994840       1.000000   \n",
      "\n",
      "            feature5       feature6       feature7       feature8  \\\n",
      "count  108405.000000  108405.000000  108405.000000  108405.000000   \n",
      "mean        0.430014       0.500072       0.533695       0.484669   \n",
      "std         0.087958       0.102223       0.098016       0.087952   \n",
      "min         0.000000       0.000000       0.000000       0.000000   \n",
      "25%         0.376880       0.436020       0.478910       0.437220   \n",
      "50%         0.428840       0.502160       0.539150       0.483380   \n",
      "75%         0.482570       0.566100       0.588430       0.529180   \n",
      "max         1.000000       1.000000       1.000000       1.000000   \n",
      "\n",
      "            feature9      feature10      ...            feature12  \\\n",
      "count  108405.000000  108405.000000      ...        108405.000000   \n",
      "mean        0.351988       0.565529      ...             0.475409   \n",
      "std         0.100833       0.095981      ...             0.103580   \n",
      "min         0.005760       0.000000      ...             0.000000   \n",
      "25%         0.286220       0.510540      ...             0.415570   \n",
      "50%         0.340520       0.571450      ...             0.477890   \n",
      "75%         0.406380       0.626150      ...             0.536430   \n",
      "max         1.000000       1.000000      ...             1.000000   \n",
      "\n",
      "           feature13      feature14      feature15      feature16  \\\n",
      "count  108405.000000  108405.000000  108405.000000  108405.000000   \n",
      "mean        0.426605       0.622671       0.539131       0.407971   \n",
      "std         0.092866       0.088380       0.093146       0.087795   \n",
      "min         0.002520       0.000000       0.000000       0.002620   \n",
      "25%         0.378480       0.570380       0.485290       0.359280   \n",
      "50%         0.425220       0.626130       0.545240       0.406200   \n",
      "75%         0.473190       0.676210       0.597950       0.454230   \n",
      "max         1.000000       1.000000       0.999890       1.000000   \n",
      "\n",
      "           feature17      feature18      feature19      feature20  \\\n",
      "count  108405.000000  108405.000000  108405.000000  108405.000000   \n",
      "mean        0.568731       0.594192       0.525519       0.493394   \n",
      "std         0.092837       0.097566       0.089129       0.090487   \n",
      "min         0.000000       0.000000       0.000000       0.021120   \n",
      "25%         0.522870       0.541190       0.472620       0.444070   \n",
      "50%         0.569970       0.595320       0.530720       0.488750   \n",
      "75%         0.616220       0.648000       0.578430       0.540270   \n",
      "max         0.997570       1.000000       0.979030       0.968260   \n",
      "\n",
      "           feature21  \n",
      "count  108405.000000  \n",
      "mean        0.433121  \n",
      "std         0.104713  \n",
      "min         0.000000  \n",
      "25%         0.365090  \n",
      "50%         0.423950  \n",
      "75%         0.493530  \n",
      "max         1.000000  \n",
      "\n",
      "[8 rows x 21 columns]\n"
     ]
    }
   ],
   "source": [
    "print X.describe()"
   ]
  },
  {
   "cell_type": "code",
   "execution_count": 33,
   "metadata": {
    "collapsed": false
   },
   "outputs": [
    {
     "data": {
      "image/png": "[encoded data removed]",
      "text/plain": [
       "<matplotlib.figure.Figure at 0x11d379490>"
      ]
     },
     "metadata": {},
     "output_type": "display_data"
    }
   ],
   "source": [
    "pd.options.display.mpl_style = 'default'\n",
    "\n",
    "X.boxplot(figsize=(14,8), rot = 45);"
   ]
  },
  {
   "cell_type": "code",
   "execution_count": 36,
   "metadata": {
    "collapsed": false
   },
   "outputs": [
    {
     "data": {
      "image/png": "[encoded data removed]",
      "text/plain": [
       "<matplotlib.figure.Figure at 0x1224f3ad0>"
      ]
     },
     "metadata": {},
     "output_type": "display_data"
    }
   ],
   "source": [
    "X.hist(figsize=(14, 12), bins=30);"
   ]
  },
  {
   "cell_type": "markdown",
   "metadata": {},
   "source": [
    "Our data looks to be approximately normally distributed between 0 and 1, so theres no immediate need for us to do any sort of additional normalization.\n",
    "\n",
    "I have heard the misconception that machine learning algorithms do not need normalization.  This is false.  Imagine a loss function mapped across a 2 dimensional feature space, whereby one of features has a range >> than the other.  The gradient descent algorithm for movement along this feature space will not be able to differentiate between the two ranges, and will conversely,  fail to navigate to the loss minimizing value along the lower feature range.\n",
    "\n",
    "I will first be splitting the data into a training and validation set so I can get a better picture of out of sample performance."
   ]
  },
  {
   "cell_type": "code",
   "execution_count": 40,
   "metadata": {
    "collapsed": true
   },
   "outputs": [],
   "source": [
    "# split into test and train\n",
    "from sklearn.model_selection import train_test_split\n",
    "\n",
    "x_train, x_valid, y_train, y_valid = train_test_split(X, Y, test_size=0.1, random_state=False)"
   ]
  },
  {
   "cell_type": "markdown",
   "metadata": {},
   "source": [
    "First I will be seeing what my performance is looking like out of sample so I can get a sense of how much tuning will be necessary.\n",
    "\n",
    "I will be running a simple XGBoosted model with some paramaters tuned from a prior Kaggle competition."
   ]
  },
  {
   "cell_type": "code",
   "execution_count": 41,
   "metadata": {
    "collapsed": false
   },
   "outputs": [],
   "source": [
    "import xgboost as xgb # xgboost package \n",
    "\n",
    "# Split training and validation datasets\n",
    "d_train = xgb.DMatrix(x_train, label=y_train)\n",
    "d_valid = xgb.DMatrix(x_valid, label=y_valid)"
   ]
  },
  {
   "cell_type": "markdown",
   "metadata": {},
   "source": [
    "I tend to build models with early stopping, so that if the validation performance doesn't improve in over *n* rounds, the final model will use whatever was the last configuration before the *n* iterations."
   ]
  },
  {
   "cell_type": "code",
   "execution_count": 135,
   "metadata": {
    "collapsed": false
   },
   "outputs": [
    {
     "name": "stdout",
     "output_type": "stream",
     "text": [
      "[0]\ttrain-logloss:0.693028\tvalid-logloss:0.69312\n",
      "Multiple eval metrics have been passed: 'valid-logloss' will be used for early stopping.\n",
      "\n",
      "Will train until valid-logloss hasn't improved in 100 rounds.\n",
      "[10]\ttrain-logloss:0.691948\tvalid-logloss:0.692913\n",
      "[20]\ttrain-logloss:0.690984\tvalid-logloss:0.692734\n",
      "[30]\ttrain-logloss:0.690102\tvalid-logloss:0.692609\n",
      "[40]\ttrain-logloss:0.689299\tvalid-logloss:0.692501\n",
      "[50]\ttrain-logloss:0.688555\tvalid-logloss:0.692459\n",
      "[60]\ttrain-logloss:0.687853\tvalid-logloss:0.692441\n",
      "[70]\ttrain-logloss:0.687231\tvalid-logloss:0.692426\n",
      "[80]\ttrain-logloss:0.686782\tvalid-logloss:0.69244\n",
      "[90]\ttrain-logloss:0.686489\tvalid-logloss:0.69244\n",
      "[100]\ttrain-logloss:0.686231\tvalid-logloss:0.692458\n",
      "[110]\ttrain-logloss:0.685894\tvalid-logloss:0.6925\n",
      "[120]\ttrain-logloss:0.685616\tvalid-logloss:0.692557\n",
      "[130]\ttrain-logloss:0.685286\tvalid-logloss:0.692594\n",
      "[140]\ttrain-logloss:0.685012\tvalid-logloss:0.692656\n",
      "[150]\ttrain-logloss:0.684729\tvalid-logloss:0.692697\n",
      "[160]\ttrain-logloss:0.684432\tvalid-logloss:0.69275\n",
      "Stopping. Best iteration:\n",
      "[64]\ttrain-logloss:0.687586\tvalid-logloss:0.692406\n",
      "\n"
     ]
    }
   ],
   "source": [
    "params = {}\n",
    "params['eta'] = 0.02 # control the learning rate: scale the contribution of each tree by a factor of 0 < eta < 1. Lower is slower but more robust to overfitting.\n",
    "params['objective'] = 'binary:logistic' # Default.  Running a regression, since we're predicting values not classes\n",
    "params['eval_metric'] = 'logloss' # We're evaluating our models on Mean Average Error.  \n",
    "params['max_depth'] = 6 # Maximum depth of a tree, increase this value will make the model more complex / likely to be overfitting.\n",
    "params['silent'] = 1 # Don't print messages\n",
    "\n",
    "# We will be tuning our model based on how it does in the validation dataset \n",
    "watchlist = [(d_train, 'train'), (d_valid, 'valid')]\n",
    "\n",
    "# Early stopping\n",
    "clf = xgb.train(params, d_train, 10000, watchlist, early_stopping_rounds=100, verbose_eval=10)"
   ]
  },
  {
   "cell_type": "code",
   "execution_count": 116,
   "metadata": {
    "collapsed": true
   },
   "outputs": [],
   "source": [
    "d_prediction = xgb.DMatrix(x_prediction)"
   ]
  },
  {
   "cell_type": "code",
   "execution_count": 125,
   "metadata": {
    "collapsed": false
   },
   "outputs": [
    {
     "name": "stdout",
     "output_type": "stream",
     "text": [
      "Writing predictions to predictions.csv\n",
      "Done!\n"
     ]
    }
   ],
   "source": [
    "results = clf.predict(d_prediction)\n",
    "results_df = pd.DataFrame(data={'probability':results})\n",
    "joined = pd.DataFrame(ids).join(results_df)\n",
    "\n",
    "print(\"Writing predictions to predictions.csv\")\n",
    "# Save the predictions out to a CSV file\n",
    "joined.to_csv(\"predictions.csv\", index=False)\n",
    "print(\"Done!\")"
   ]
  },
  {
   "cell_type": "markdown",
   "metadata": {},
   "source": [
    "Wow, thats a shocker.  I've never seen a model improve so little after the first iteration.  I think it might be because the data is so cleaned already. I dont think I'll do any tuning at this moment, and I'll wait to see how my other models perform on this dataset."
   ]
  },
  {
   "cell_type": "code",
   "execution_count": 127,
   "metadata": {
    "collapsed": false
   },
   "outputs": [],
   "source": [
    "from sklearn.neural_network import MLPRegressor\n",
    "from sklearn.neighbors import KNeighborsClassifier\n",
    "from sklearn.svm import LinearSVC\n",
    "from sklearn.gaussian_process import GaussianProcessClassifier\n",
    "from sklearn.gaussian_process.kernels import RBF\n",
    "from sklearn.tree import DecisionTreeClassifier\n",
    "from sklearn.ensemble import RandomForestClassifier, AdaBoostClassifier, GradientBoostingClassifier\n",
    "from sklearn import linear_model\n",
    "from sklearn.linear_model import LogisticRegression\n",
    "\n",
    "from sklearn import metrics\n",
    "from sklearn.model_selection import cross_val_predict, cross_val_score"
   ]
  },
  {
   "cell_type": "markdown",
   "metadata": {},
   "source": [
    "I'll be running 5 fold cross validation on our training set to generate predictions on our validation dataset."
   ]
  },
  {
   "cell_type": "code",
   "execution_count": 62,
   "metadata": {
    "collapsed": true
   },
   "outputs": [],
   "source": [
    "# import cross validation packages\n",
    "from sklearn.model_selection import KFold\n",
    "\n",
    "## Building KFolds with 5 Folds\n",
    "KFold_5 = KFold(5)"
   ]
  },
  {
   "cell_type": "markdown",
   "metadata": {},
   "source": [
    "I'm testing a few different models with relatively random hyper-paramaters- I'll be likely building an ensemble model at this point so I'm trying to get a sense of what models I'll want to tune later."
   ]
  },
  {
   "cell_type": "code",
   "execution_count": null,
   "metadata": {
    "collapsed": false
   },
   "outputs": [],
   "source": [
    "names = [\"LR-C=0.01\", \"LR-C=0.1\", \"LR-C=1\", \"LR-C=10\",  \n",
    "         \"KNN-50\", \"KNN-500\", \"KNN-5000\",\n",
    "         \"GBR ls\",\n",
    "         \"Random Forest 100\", \"Random Forest 10\"]\n",
    "\n",
    "regressors = [\n",
    "    LogisticRegression(C = 0.01),\n",
    "    LogisticRegression(C = 0.1),\n",
    "    LogisticRegression(C = 1),\n",
    "    LogisticRegression(C = 10),\n",
    "    KNeighborsClassifier(50),\n",
    "    KNeighborsClassifier(500),\n",
    "    KNeighborsClassifier(5000),\n",
    "    GradientBoostingClassifier(n_estimators=100, learning_rate=0.02, random_state=0),\n",
    "    RandomForestClassifier(n_estimators=100),\n",
    "    RandomForestClassifier(n_estimators=10),   \n",
    "]\n",
    "\n",
    "for name, reg in zip(names, regressors):\n",
    "    reg.fit(x_train, y_train)\n",
    "    predicted = reg.predict_proba(x_valid)\n",
    "    #predicted = cross_val_predict(reg, x_valid, y_valid, cv=KFold_5)\n",
    "    print name, metrics.log_loss(y_valid, predicted)"
   ]
  },
  {
   "cell_type": "markdown",
   "metadata": {},
   "source": [
    "With the exeption of the penalized logistic regression model, none of the other tested models outperform the XGBoosted model on the validation dataset.  The good news is that we're seeing promising results from the linear regression models and KNN models.  If you're ensembling, you first and foremost want high performing models.  But you also want to ensure that your models are different in ways to compensate one another.  For example, you'd stand little to gain pairing a number of forest based models since they'll likely be strong and weak in many of the same ways.\n",
    "\n",
    "I'm learning towards my ensemble combining a K-Nearest Neighbors model, a penalized logistic regression, and an XGboost model. I'll see what sort of performance I get on the Numerai leaderboard before I try tuning the parameters. To ensemble, I'll simply average the prediction probabilities over the full dataset."
   ]
  },
  {
   "cell_type": "code",
   "execution_count": 151,
   "metadata": {
    "collapsed": true
   },
   "outputs": [],
   "source": [
    "d_X = xgb.DMatrix(X, label=Y)\n",
    "\n",
    "params = {}\n",
    "params['eta'] = 0.02 # control the learning rate: scale the contribution of each tree by a factor of 0 < eta < 1. Lower is slower but more robust to overfitting.\n",
    "params['objective'] = 'multi:softprob' \n",
    "params['eval_metric'] = 'logloss' # We're evaluating our models on Mean Average Error.  \n",
    "params['max_depth'] = 6 # Maximum depth of a tree, increase this value will make the model more complex / likely to be overfitting.\n",
    "params['silent'] = 1 # Don't print messages\n",
    "params['num_class'] = 2"
   ]
  },
  {
   "cell_type": "code",
   "execution_count": 152,
   "metadata": {
    "collapsed": true
   },
   "outputs": [],
   "source": [
    "LR_CLF = LogisticRegression(C = 10)\n",
    "KN_CLF = KNeighborsClassifier(5000)"
   ]
  },
  {
   "cell_type": "markdown",
   "metadata": {},
   "source": [
    "Fit our models..."
   ]
  },
  {
   "cell_type": "code",
   "execution_count": 153,
   "metadata": {
    "collapsed": false
   },
   "outputs": [
    {
     "data": {
      "text/plain": [
       "KNeighborsClassifier(algorithm='auto', leaf_size=30, metric='minkowski',\n",
       "           metric_params=None, n_jobs=1, n_neighbors=5000, p=2,\n",
       "           weights='uniform')"
      ]
     },
     "execution_count": 153,
     "metadata": {},
     "output_type": "execute_result"
    }
   ],
   "source": [
    "XG_CLF = xgb.train(params, d_X, num_boost_round=64)\n",
    "LR_CLF.fit(X, Y)\n",
    "KN_CLF.fit(X, Y)"
   ]
  },
  {
   "cell_type": "markdown",
   "metadata": {},
   "source": [
    "Generate out predictions..."
   ]
  },
  {
   "cell_type": "code",
   "execution_count": 161,
   "metadata": {
    "collapsed": true
   },
   "outputs": [],
   "source": [
    "d_prediction = xgb.DMatrix(x_prediction)"
   ]
  },
  {
   "cell_type": "code",
   "execution_count": 170,
   "metadata": {
    "collapsed": false
   },
   "outputs": [],
   "source": [
    "XG_prediction = XG_CLF.predict(d_prediction)\n",
    "LR_prediction = LR_CLF.predict_proba(x_prediction)\n",
    "KN_prediction = KN_CLF.predict_proba(x_prediction)"
   ]
  },
  {
   "cell_type": "markdown",
   "metadata": {},
   "source": [
    "Average and print our predictions to CSV..."
   ]
  },
  {
   "cell_type": "code",
   "execution_count": 175,
   "metadata": {
    "collapsed": false
   },
   "outputs": [
    {
     "name": "stdout",
     "output_type": "stream",
     "text": [
      "Writing predictions to predictions.csv\n",
      "Done!\n"
     ]
    }
   ],
   "source": [
    "y_prediction = (XG_prediction + XG_prediction + KN_prediction)/3\n",
    "results = y_prediction[:, 1]\n",
    "results_df = pd.DataFrame(data={'probability':results})\n",
    "joined = pd.DataFrame(ids).join(results_df)\n",
    "\n",
    "print(\"Writing predictions to predictions.csv\")\n",
    "# Save the predictions out to a CSV file\n",
    "joined.to_csv(\"predictions_0624.csv\", index=False)\n",
    "print(\"Done!\")"
   ]
  },
  {
   "cell_type": "markdown",
   "metadata": {},
   "source": [
    "With our 3 model ensemble we have a score of 0.6927 on Numer.ai.  Enough for a paltry 300th place, but the model is both original, concordant, and 75% consistent on historical datasets.  With tuning and some feature engineering we'll hopefully be able to bring this down to below 0.69, enough for a top 200 finish."
   ]
  }
 ],
 "metadata": {
  "kernelspec": {
   "display_name": "Python 2",
   "language": "python",
   "name": "python2"
  },
  "language_info": {
   "codemirror_mode": {
    "name": "ipython",
    "version": 2
   },
   "file_extension": ".py",
   "mimetype": "text/x-python",
   "name": "python",
   "nbconvert_exporter": "python",
   "pygments_lexer": "ipython2",
   "version": "2.7.13"
  }
 },
 "nbformat": 4,
 "nbformat_minor": 2
}
