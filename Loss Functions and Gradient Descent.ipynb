{
 "cells": [
  {
   "cell_type": "markdown",
   "metadata": {},
   "source": [
    "# Loss Functions and Gradient Descent\n",
    "\n",
    "Loss functions are the foundation and measure by which machine learning algorithms are optimized.  The value of the loss function is a measure of how good the model 'coefficients' (we'll call these **paramaters**, or **betas** from now on) are at fitting the underlying data.  \n",
    "\n",
    "An intuitive understand of the loss function will depend on the sort of problem we're trying to optimize.  If we're trying to run a regression to predict housing prices, the loss function will be based off the error between the true and predicted home prices.  If we're trying to classify credit defaults, the loss function will be a measure of how accurate our predictions are at identifying the bad loans.  Intuitive!\n",
    "\n",
    "A machine learning algorithm will be finished optimizing when it finds a set of parameters that minimize the loss.  When our machine learning algorithm has a **convex** loss function, it has a single optimal set of parameters that will minimize its loss function. Convex loss functions are like a basin. Given enough iterations, our algorithm will fall into the set of parameters that result in the lowest possible loss.\n",
    "\n",
    "Consider the figure on the left below.  If you were looking at the convex plane from the top-down, the 'X' and 'Y' would be two possible model parameters.  With enough iterations, the parameters will minimize model loss.  This won't mean we found the 'best' model -- I'll cover **overfitting** in later posts and how we can control for it."
   ]
  },
  {
   "cell_type": "code",
   "execution_count": null,
   "metadata": {
    "collapsed": true
   },
   "outputs": [],
   "source": [
    "from IPython.display import Image\n",
    "from IPython.core.display import HTML"
   ]
  },
  {
   "cell_type": "code",
   "execution_count": 4,
   "metadata": {
    "collapsed": false
   },
   "outputs": [
    {
     "data": {
      "text/html": [
       "<img src=\"https://image.slidesharecdn.com/mlconf2015-sf-anandkumar-151114002155-lva1-app6892/95/animashree-anandkumar-electrical-engineering-and-cs-dept-uc-irvine-at-mlconf-sf-111315-10-638.jpg?cb=1447460604\" width=\"700\" height=\"500\"/>"
      ],
      "text/plain": [
       "<IPython.core.display.Image object>"
      ]
     },
     "execution_count": 4,
     "metadata": {},
     "output_type": "execute_result"
    }
   ],
   "source": [
    "Image(url= \"https://image.slidesharecdn.com/mlconf2015-sf-anandkumar\\\n",
    "-151114002155-lva1-app6892/95/animashree-anandkumar-electrical-engine\\\n",
    "ering-and-cs-dept-uc-irvine-at-mlconf-sf-111315-10-638.jpg?cb=14474606\\\n",
    "04\", width=700, height=500)"
   ]
  },
  {
   "cell_type": "markdown",
   "metadata": {},
   "source": [
    "The above figure to the right shows the loss function of a non-convex algorithm.  You can see there are multiple local optimums that our algorithm can fall into. In the following posts, we'll cover which machine learning algorithms are convex or non-convex, and we'll code up some possible resolutions to these scenarios."
   ]
  },
  {
   "cell_type": "markdown",
   "metadata": {},
   "source": [
    "## Gradient Descent"
   ]
  },
  {
   "cell_type": "markdown",
   "metadata": {},
   "source": [
    "Our machine learning algorithms knows which direction to travel along the convex plane through a process called gradient descent. To find a local minimimum of our loss funtion using gradient descent, the algorithm takes steps proportional to the negative of the derivative of the function at the current point. \n",
    "\n",
    "In other words, we use the slope of our loss function at a given point to figure out 2 things:\n",
    "- Which direction we should adjust our parameters\n",
    "- How large our parameter adjustment should be\n",
    "\n",
    "If we find outselves on a steep portion of the loss function plane, we take large steps.  When the slope of our loss function is shallow, we move slowly.  Eventually we'll reach a point where our slope is practically zero and our algorithm will stop.\n",
    "\n",
    "In practice many of these algorithms have a step size cut-off, whereby if the step is calculcated to be below a certain size it'll stop traversing.  The consequence of this will be that these algorithms don't necessarily find the **absolute** lowest point, but something close enough.  This isn't actually a bad thing-- In fact, when we cover overfitting in later chapters I'll show how this is actually desired. "
   ]
  },
  {
   "cell_type": "code",
   "execution_count": 5,
   "metadata": {
    "collapsed": false
   },
   "outputs": [
    {
     "data": {
      "text/html": [
       "<img src=\"https://qph.ec.quoracdn.net/main-qimg-b7a3a254830ac374818cdce3fa5a7f17\" width=\"700\" height=\"500\"/>"
      ],
      "text/plain": [
       "<IPython.core.display.Image object>"
      ]
     },
     "execution_count": 5,
     "metadata": {},
     "output_type": "execute_result"
    }
   ],
   "source": [
    "Image(url= \"https://qph.ec.quoracdn.net/main-qimg-b7a3a254830ac3748\\\n",
    "18cdce3fa5a7f17\", width=700, height=500)"
   ]
  },
  {
   "cell_type": "markdown",
   "metadata": {},
   "source": [
    "For our coded example, we'll be optimizing a one dimensional loss function. We'll be finding the parameter (w) which minimizes the loss function.  We'll traverse along the cost function by \n",
    "\n",
    "But first, we'll be loading our basic packages. "
   ]
  },
  {
   "cell_type": "code",
   "execution_count": 13,
   "metadata": {
    "collapsed": false
   },
   "outputs": [],
   "source": [
    "import numpy as np\n",
    "#from math import sin\n",
    "import pylab \n",
    "#import matplotlib.pyplot as plt\n",
    "#%matplotlib inline"
   ]
  },
  {
   "cell_type": "markdown",
   "metadata": {},
   "source": [
    "To get a little more visibility into our algorithm, we've hard-coded the loss function and its derivative as inputs into our gradient descent algorithm.\n",
    "\n",
    "Like the above figure, our loss function is defined as w^2.  We'll be expecting our algorithm to find loss minimized around 0 or close to it. "
   ]
  },
  {
   "cell_type": "code",
   "execution_count": 17,
   "metadata": {
    "collapsed": true
   },
   "outputs": [],
   "source": [
    "def loss_func(w):\n",
    "    return np.power(w, 2)"
   ]
  },
  {
   "cell_type": "markdown",
   "metadata": {},
   "source": [
    "The derivative of w^2 is of course, 2\\*w.  We'll be using the derivative to find which direction we need to traverse along our loss function"
   ]
  },
  {
   "cell_type": "code",
   "execution_count": 18,
   "metadata": {
    "collapsed": true
   },
   "outputs": [],
   "source": [
    "def gradient_func(w):\n",
    "    return 2*w"
   ]
  },
  {
   "cell_type": "markdown",
   "metadata": {},
   "source": [
    "And finally, we have the code for our gradient descent function.  Step by step what it does is below:\n",
    "\n",
    "1. Initialize a random point to begin our dscent\n",
    "2. Initialize our array of guesses and derivatives (for plotting our descent)\n",
    "3. For our random point, record the loss and gradient\n",
    "4. Move in the opposite direction of our gradient by a distance proportional to the gradient and our programmed step size\n",
    "5. As long as our movement is greater than our minimum movement, repeat steps 3-5 with our new point."
   ]
  },
  {
   "cell_type": "code",
   "execution_count": 19,
   "metadata": {
    "collapsed": true
   },
   "outputs": [],
   "source": [
    "def gradient_descent(loss_func, gradient_func, step, resolution, guess):\n",
    "    old_guess = 99999\n",
    "    guesses = []\n",
    "    derivatives = []\n",
    "    while abs(old_guess - guess) > resolution:\n",
    "        error = loss_func(guess)\n",
    "        derivative = gradient_func(guess)\n",
    "        move = derivative * step\n",
    "        old_guess = guess\n",
    "        guess = guess - move\n",
    "        guesses.append(guess)\n",
    "        derivatives.append(derivative)\n",
    "    pylab.plot(guesses, label='Values')\n",
    "    pylab.plot(derivatives, label='Derivatives')\n",
    "    pylab.legend(loc='upper right')\n",
    "    pylab.show()\n",
    "    return guess, error"
   ]
  },
  {
   "cell_type": "markdown",
   "metadata": {},
   "source": [
    "Below we run our code"
   ]
  },
  {
   "cell_type": "code",
   "execution_count": 20,
   "metadata": {
    "collapsed": false
   },
   "outputs": [
    {
     "data": {
      "image/png": "[encoded data removed]",
      "text/plain": [
       "<matplotlib.figure.Figure at 0x11583ff90>"
      ]
     },
     "metadata": {},
     "output_type": "display_data"
    },
    {
     "name": "stdout",
     "output_type": "stream",
     "text": [
      "Best approximation of local minimum is 0.00380295180068\n",
      "Error is 2.25975662474e-05\n"
     ]
    }
   ],
   "source": [
    "guess, error = gradient_descent(loss_func, gradient_func, step=0.1, \n",
    "                                resolution=0.001, guess=6)\n",
    "\n",
    "print \"Best approximation of local minimum is\", guess\n",
    "print \"Error is\", error"
   ]
  },
  {
   "cell_type": "markdown",
   "metadata": {},
   "source": [
    "As I stated previously, our gradient descent process didn't find the lowest point in our loss function.  With a greater minimum movement input, we could reach closer and closer to zero."
   ]
  },
  {
   "cell_type": "markdown",
   "metadata": {
    "collapsed": true
   },
   "source": [
    "## Summary\n",
    "\n",
    "I hope after this little tutorial you're more comfortable with the idea of loss functions and the process to minimizes their loss. I hear its not entirely common to start learning about machine learning with this concept, but I'm dumbfounded to think theres a better way. "
   ]
  }
 ],
 "metadata": {
  "kernelspec": {
   "display_name": "Python 2",
   "language": "python",
   "name": "python2"
  },
  "language_info": {
   "codemirror_mode": {
    "name": "ipython",
    "version": 2
   },
   "file_extension": ".py",
   "mimetype": "text/x-python",
   "name": "python",
   "nbconvert_exporter": "python",
   "pygments_lexer": "ipython2",
   "version": "2.7.13"
  }
 },
 "nbformat": 4,
 "nbformat_minor": 0
}
