{
 "cells": [
  {
   "cell_type": "markdown",
   "metadata": {
    "deletable": true,
    "editable": true
   },
   "source": [
    "# Building our own K-Means Algorithm Implementation"
   ]
  },
  {
   "cell_type": "markdown",
   "metadata": {},
   "source": [
    "The K-Means clustering algorithm is a popular clustering algorithm that separates our data points into *k* clusters of affinity. It's not a predictive algorithm, meaning, it's not generally used to predict behvarior of new data. It's more often used to find similarities between clusters of existing data for descriptive purposes.  I had a chance to ues k-means in my university academic work on a set of business customer characteristic data.  We were looking for segments of customers to develop individual marketing plans to.  We knew we wanted to target between 4 and 6 different clusters, and the algorithm was a useful supplement to our theoretical justification of our marketing splits.\n",
    "\n",
    "You'll come out of this notebook having handwritten the *k*-means clustering algorithm.  You'll also see how we can deal with the problem of k-means having a non-convex loss function.  \n",
    "\n",
    "For our first step, I'm loading the basic packages used for data manipulation and loading.  "
   ]
  },
  {
   "cell_type": "code",
   "execution_count": 2,
   "metadata": {
    "collapsed": false,
    "deletable": true,
    "editable": true
   },
   "outputs": [],
   "source": [
    "# import basic libraries\n",
    "import numpy as np\n",
    "import pandas as pd\n",
    "import matplotlib.pyplot as plt\n",
    "import sys\n",
    "from IPython.display import Image\n",
    "from IPython.core.display import HTML\n",
    "\n",
    "# importing a printing utility\n",
    "sys.path.append('../utils')            \n",
    "import dim_reduction_plotting as plotting_util"
   ]
  },
  {
   "cell_type": "markdown",
   "metadata": {
    "deletable": true,
    "editable": true
   },
   "source": [
    "In the first cell, we load up one of the datasets"
   ]
  },
  {
   "cell_type": "code",
   "execution_count": 3,
   "metadata": {
    "collapsed": false,
    "deletable": true,
    "editable": true
   },
   "outputs": [],
   "source": [
    "# path to data\n",
    "basepath = '../datasets/'\n",
    "dataname = '5cluster_2d_data.csv'\n",
    "X = np.asarray(pd.read_csv(basepath + dataname,header = None))"
   ]
  },
  {
   "cell_type": "markdown",
   "metadata": {
    "deletable": true,
    "editable": true
   },
   "source": [
    "First, we'll visualize the data.  "
   ]
  },
  {
   "cell_type": "code",
   "execution_count": 4,
   "metadata": {
    "collapsed": false,
    "deletable": true,
    "editable": true
   },
   "outputs": [
    {
     "data": {
      "image/png": "[encoded data removed]",
      "text/plain": [
       "<matplotlib.figure.Figure at 0x116d84c10>"
      ]
     },
     "metadata": {},
     "output_type": "display_data"
    }
   ],
   "source": [
    "%matplotlib inline\n",
    "\n",
    "# plot dataset\n",
    "fig = plt.figure(figsize = (7,7))\n",
    "ax = fig.add_subplot(111, aspect = 'equal')\n",
    "ax.scatter(X[:,0],X[:,1],c = 'k',s = 60,edgecolor = 'w')\n",
    "ax.axis('off');"
   ]
  },
  {
   "cell_type": "markdown",
   "metadata": {},
   "source": [
    "We can see that there are a couple distinct clusters in here -- Perfect input data for our k-means algorithm.  Our data is 2 dimensional, which lets us spot check to see that the optimal set of clusters should be 5.  Of course, most data you'll work with won't have this sort of obvious choice of clusters. Later in this notebook I'll cover how we can think about selecting the right number of clusters. For now, we'll write our algorithm agnostic to number of clusters."
   ]
  },
  {
   "cell_type": "markdown",
   "metadata": {},
   "source": [
    "### Implementation\n",
    "\n",
    "Our algorithm will maintain the same nomenclature as scikit learn's k-means functionality.  It will take:\n",
    "\n",
    "```X``` - your dataset \n",
    "\n",
    "```num_clusters``` - a number of desired clusters\n",
    "\n",
    "and should return two things:\n",
    "\n",
    "```centroids``` - the returned centroids.  These are center points of each cluster.\n",
    "\n",
    "```assignments``` - the set of labels assigning each point to a cluster.\n",
    "\n",
    "### The Algorithm\n",
    "\n",
    "The k-means algorithm can be broken down into 2 individually optimizable functions by virtue of Lloyd's algorithm.  The process goes as follows:\n",
    "\n",
    "1. Place *k* points somewhere randomly in the input domain to serve as initial centroids\n",
    "2. Assign each *n* points to its nearest centroid.  We are minimizing the distance between each point to their centroid.\n",
    "3. Move each centroid to the center of its assigned points.\n",
    "4. Repeat steps 2 and 3 \n",
    "\n",
    "Easy! \n",
    "\n",
    "We'll first code up our loss function.  We'll be constantly minimizing the distance between points and centroids, so we'll be creating a function to wrap it up.  For each point and set of centroids passed to it it, it'll return the distance from that point and each of those centroids."
   ]
  },
  {
   "cell_type": "code",
   "execution_count": 5,
   "metadata": {
    "collapsed": true
   },
   "outputs": [],
   "source": [
    "## Distance function measures the distance from each point to to each centroid\n",
    "def distance(x, centroids):\n",
    "    return [np.sum((x - c)**2) for c in centroids]"
   ]
  },
  {
   "cell_type": "markdown",
   "metadata": {},
   "source": [
    "Below I code up the k-means algorithm with a default 100 iterations to find the minimum point.  See further below for a run through of the code."
   ]
  },
  {
   "cell_type": "code",
   "execution_count": 6,
   "metadata": {
    "collapsed": false,
    "deletable": true,
    "editable": true
   },
   "outputs": [],
   "source": [
    "## Primary K-Means Function takes the number of iterations to find the\n",
    "## allocation of points that gives the lowest error \n",
    "def my_kmeans(X,num_clusters, max_iters=100):\n",
    "    # Assigns *k* random points to be initial centroids\n",
    "    centroids = X[np.random.choice(range(len(X)), num_clusters),:]\n",
    "    # build an array of assignments\n",
    "    assignments = range(len(X))\n",
    "    # run max_iters amount of iterations to find the loss minimum\n",
    "    for i in range(max_iters):\n",
    "        # assign each point to its nearest centroid\n",
    "        assignments = [np.argmin(distance(x, centroids)) for x in X]\n",
    "        # Move each centroid to the center of all the points assigned to it.\n",
    "        for j in np.unique(assignments):\n",
    "            temp_X = X[assignments==j]\n",
    "            centroids[j] = [temp_X[:,0].mean(), temp_X[:,1].mean()]  \n",
    "    assignments = np.asarray(assignments)\n",
    "    return centroids,assignments"
   ]
  },
  {
   "cell_type": "code",
   "execution_count": 15,
   "metadata": {
    "collapsed": false,
    "deletable": true,
    "editable": true
   },
   "outputs": [],
   "source": [
    "# run the k-means algorithm below\n",
    "centroids,assignments = my_kmeans(X = X,num_clusters = 5)"
   ]
  },
  {
   "cell_type": "markdown",
   "metadata": {
    "deletable": true,
    "editable": true
   },
   "source": [
    "With our centroids and assignment labels in hand, lets plot the original dataset colored by cluster membership as well as the cluster centroids (as stars of the same color as its cluster)."
   ]
  },
  {
   "cell_type": "code",
   "execution_count": 16,
   "metadata": {
    "collapsed": false,
    "deletable": true,
    "editable": true
   },
   "outputs": [
    {
     "data": {
      "image/png": "[encoded data removed]",
      "text/plain": [
       "<matplotlib.figure.Figure at 0x11abcfa90>"
      ]
     },
     "metadata": {},
     "output_type": "display_data"
    }
   ],
   "source": [
    "# print out dataset again, only with each cluster colored individually, \n",
    "# and plot centroids\n",
    "plotting_util.cluster_plot_2d(X,centroids,assignments)"
   ]
  },
  {
   "cell_type": "markdown",
   "metadata": {
    "collapsed": false
   },
   "source": [
    "### Comments\n",
    "\n",
    "Uh oh! Looks like our model did not produce an optimal result.\n",
    "\n",
    "Plenty of runs do not end with the optimal solution.  Plenty of runs end with a very obvious case of \"this could be divied up better\".  To solve this, I'll be running a 'super loop' on the data, choosing the run that has the lowest total loss on each point"
   ]
  },
  {
   "cell_type": "markdown",
   "metadata": {
    "collapsed": true
   },
   "source": [
    "### Why does this happen?\n",
    "\n",
    "The K-means loss function is not naturally convex. The process of assigning *N* points to *K* clusters can fall into an exponential number of locally optimal assignments of points. Consider the loss function graphed to the right below.  In the process of assigning and re-assigning points to minimize loss, the k-means algorithm will frequently fall down the wrong 'path' for finding the global loss minimum."
   ]
  },
  {
   "cell_type": "code",
   "execution_count": 16,
   "metadata": {
    "collapsed": false
   },
   "outputs": [
    {
     "data": {
      "text/html": [
       "<img src=\"https://image.slidesharecdn.com/mlconf2015-sf-anandkumar-151114002155-lva1-app6892/95/animashree-anandkumar-electrical-engineering-and-cs-dept-uc-irvine-at-mlconf-sf-111315-10-638.jpg?cb=1447460604\" width=\"700\" height=\"500\"/>"
      ],
      "text/plain": [
       "<IPython.core.display.Image object>"
      ]
     },
     "execution_count": 16,
     "metadata": {},
     "output_type": "execute_result"
    }
   ],
   "source": [
    "Image(url= \"https://image.slidesharecdn.com/mlconf2015-sf-anandkumar-1511140021\\\n",
    "55-lva1-app6892/95/animashree-anandkumar-electrical-engineering-and-cs-dept-uc-\\\n",
    "irvine-at-mlconf-sf-111315-10-638.jpg?cb=1447460604\", width=700, height=500)"
   ]
  },
  {
   "cell_type": "markdown",
   "metadata": {},
   "source": [
    "We'll be using most of the same code here.  The biggest difference is that we will be wrapping our *k*-means function in a **super**-function that will run the regular *k*-means code *N* times.  Our super function will then choose the run that produced the lowest total squared distance from the centroids to their constituent points."
   ]
  },
  {
   "cell_type": "code",
   "execution_count": 62,
   "metadata": {
    "collapsed": true
   },
   "outputs": [],
   "source": [
    "## Distance function measures the distance from each point to to each centroid\n",
    "def distance(x, centroids):\n",
    "    return [np.sum((x - c)**2) for c in centroids]"
   ]
  },
  {
   "cell_type": "code",
   "execution_count": 17,
   "metadata": {
    "collapsed": true
   },
   "outputs": [],
   "source": [
    "def super_kmeans(X,num_clusters, super_loops = 10, max_iters=100):\n",
    "    # Create a variable to measure the lowest error across loops.  \n",
    "    #Set to something really high initially\n",
    "    best_error = 10000000\n",
    "    for k in range(super_loops):\n",
    "        # Assigns *k* random points to be initial centroids\n",
    "        centroids = X[np.random.choice(range(len(X)), num_clusters),:]\n",
    "        # build an array of assignments\n",
    "        assignments = range(len(X))\n",
    "        # run max_iters amount of iterations to find the loss minimum\n",
    "        for i in range(max_iters):\n",
    "            # assign each point to its nearest centroid\n",
    "            assignments = [np.argmin(distance(x, centroids)) for x in X]\n",
    "            # Move each centroid to the center of all the points assigned to it.\n",
    "            for j in np.unique(assignments):\n",
    "                temp_X = X[assignments==j]\n",
    "                centroids[j] = [temp_X[:,0].mean(), temp_X[:,1].mean()]  \n",
    "        # Measure the error\n",
    "        error = 0\n",
    "        for k in range(len(assignments)):\n",
    "            error += np.mean(distance(X[k], [assignments[k]]))\n",
    "        # if this run has better error than the previous best, overwrite\n",
    "        # print error # debug\n",
    "        if error < best_error:\n",
    "            final_assignments = np.asarray(assignments)\n",
    "            final_centroids = centroids\n",
    "            best_error = error\n",
    "    return final_centroids,final_assignments"
   ]
  },
  {
   "cell_type": "code",
   "execution_count": 21,
   "metadata": {
    "collapsed": false
   },
   "outputs": [],
   "source": [
    "centroids, assignments = super_kmeans(X = X,num_clusters = 5)"
   ]
  },
  {
   "cell_type": "code",
   "execution_count": 22,
   "metadata": {
    "collapsed": false
   },
   "outputs": [
    {
     "data": {
      "image/png": "[encoded data removed]",
      "text/plain": [
       "<matplotlib.figure.Figure at 0x11ae49310>"
      ]
     },
     "metadata": {},
     "output_type": "display_data"
    }
   ],
   "source": [
    "# print out dataset again, only with each cluster colored individually, \n",
    "# and plot centroids\n",
    "plotting_util.cluster_plot_2d(X,centroids,assignments)"
   ]
  },
  {
   "cell_type": "markdown",
   "metadata": {},
   "source": [
    "Hmm....Doesn't seem like its guaranteed to give the intuitively best answer any more than our regular solution.  Perhaps taking the sum of our errors isn't the greatest method of measuing our models overall fit?\n",
    "\n",
    "Open to suggestions on how to improve this!"
   ]
  }
 ],
 "metadata": {
  "anaconda-cloud": {},
  "kernelspec": {
   "display_name": "Python 2",
   "language": "python",
   "name": "python2"
  },
  "language_info": {
   "codemirror_mode": {
    "name": "ipython",
    "version": 2
   },
   "file_extension": ".py",
   "mimetype": "text/x-python",
   "name": "python",
   "nbconvert_exporter": "python",
   "pygments_lexer": "ipython2",
   "version": "2.7.13"
  }
 },
 "nbformat": 4,
 "nbformat_minor": 0
}
